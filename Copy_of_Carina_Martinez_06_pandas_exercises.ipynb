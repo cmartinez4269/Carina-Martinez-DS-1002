{
  "cells": [
    {
      "cell_type": "markdown",
      "metadata": {
        "id": "view-in-github",
        "colab_type": "text"
      },
      "source": [
        "<a href=\"https://colab.research.google.com/github/cmartinez4269/Carina-Martinez-DS-1002/blob/main/Copy_of_Carina_Martinez_06_pandas_exercises.ipynb\" target=\"_parent\"><img src=\"https://colab.research.google.com/assets/colab-badge.svg\" alt=\"Open In Colab\"/></a>"
      ]
    },
    {
      "cell_type": "markdown",
      "metadata": {
        "id": "L_nKffgWPs-1"
      },
      "source": [
        "## Pandas exercises 1\n",
        "\n",
        "1. Import dependencies"
      ]
    },
    {
      "cell_type": "code",
      "execution_count": null,
      "metadata": {
        "id": "hASl6yoNPs-2"
      },
      "outputs": [],
      "source": [
        "import pandas as pd"
      ]
    },
    {
      "cell_type": "markdown",
      "metadata": {
        "id": "33KUt_fEPs-2"
      },
      "source": [
        "---"
      ]
    },
    {
      "cell_type": "code",
      "execution_count": null,
      "metadata": {
        "id": "ZZmr1aIoPs-3"
      },
      "outputs": [],
      "source": [
        "list = [98, 24, 46, 87, 33]"
      ]
    },
    {
      "cell_type": "markdown",
      "metadata": {
        "id": "jGSEPEqXPs-3"
      },
      "source": [
        "2. Convert `list` to a pandas series using `pd.Series`"
      ]
    },
    {
      "cell_type": "code",
      "execution_count": null,
      "metadata": {
        "id": "nZ1y9HF6Ps-3",
        "colab": {
          "base_uri": "https://localhost:8080/"
        },
        "outputId": "87505713-c2e2-4a15-ac1a-dc8ed7b04750"
      },
      "outputs": [
        {
          "output_type": "stream",
          "name": "stdout",
          "text": [
            "0    98\n",
            "1    24\n",
            "2    46\n",
            "3    87\n",
            "4    33\n",
            "dtype: int64\n"
          ]
        }
      ],
      "source": [
        "p_series = pd.Series(list)\n",
        "print(p_series)"
      ]
    },
    {
      "cell_type": "markdown",
      "metadata": {
        "id": "rORNi5YyPs-4"
      },
      "source": [
        "3. Take the above series and add an index that starts at 2 and steps by 3"
      ]
    },
    {
      "cell_type": "code",
      "execution_count": null,
      "metadata": {
        "id": "YC8f3lAMPs-4",
        "colab": {
          "base_uri": "https://localhost:8080/"
        },
        "outputId": "de0327e2-b8f3-4967-8097-5e521cccf0ef"
      },
      "outputs": [
        {
          "output_type": "stream",
          "name": "stdout",
          "text": [
            "2     98\n",
            "5     24\n",
            "8     46\n",
            "11    87\n",
            "14    33\n",
            "dtype: int64\n"
          ]
        }
      ],
      "source": [
        "index = range(2,2 + len(list) * 3, 3)\n",
        "pseries_index = pd.Series(list, index=index)\n",
        "print(pseries_index)"
      ]
    },
    {
      "cell_type": "markdown",
      "metadata": {
        "id": "2P199KkwPs-4"
      },
      "source": [
        "4. Create a dictionary of 4 names, ages, and careers   \n",
        "Convert this dictionary to a pandas dataframe: `df`.  \n",
        "Print the dataframe."
      ]
    },
    {
      "cell_type": "code",
      "execution_count": null,
      "metadata": {
        "id": "lWoGNi5hPs-5",
        "colab": {
          "base_uri": "https://localhost:8080/"
        },
        "outputId": "432c1cca-36f3-450f-b9a8-0c13a2f6c378"
      },
      "outputs": [
        {
          "output_type": "stream",
          "name": "stdout",
          "text": [
            "        Name  Age        Career\n",
            "0  Christine   21       Painter\n",
            "1       Maya   22            DJ\n",
            "2       Jaco   19  Data Analyst\n",
            "3     Olivia   20         Nurse\n"
          ]
        }
      ],
      "source": [
        "data = {\n",
        "    'Name': ['Christine', 'Maya', 'Jaco', 'Olivia'],\n",
        "    'Age': [21, 22, 19, 20],\n",
        "    'Career': ['Painter', 'DJ', 'Data Analyst', 'Nurse']\n",
        "}\n",
        "df = pd.DataFrame(data)\n",
        "print(df)"
      ]
    },
    {
      "cell_type": "markdown",
      "source": [
        "5. Name the index of `df` 'participant_id'.  \n",
        "Print `df`."
      ],
      "metadata": {
        "id": "ZI88fJJG3AFb"
      }
    },
    {
      "cell_type": "code",
      "source": [
        "df.index.name = 'participant_id'\n",
        "print(df)"
      ],
      "metadata": {
        "colab": {
          "base_uri": "https://localhost:8080/"
        },
        "id": "l9SryjJ13BVh",
        "outputId": "1da56758-2db5-4078-f510-64b1f4b7a7bf"
      },
      "execution_count": null,
      "outputs": [
        {
          "output_type": "stream",
          "name": "stdout",
          "text": [
            "                     Name  Age        Career\n",
            "participant_id                              \n",
            "0               Christine   21       Painter\n",
            "1                    Maya   22            DJ\n",
            "2                    Jaco   19  Data Analyst\n",
            "3                  Olivia   20         Nurse\n"
          ]
        }
      ]
    },
    {
      "cell_type": "markdown",
      "metadata": {
        "id": "-JXKN55IPs-5"
      },
      "source": [
        "6. Use a pandas function to determine the data types of the columns of `df`."
      ]
    },
    {
      "cell_type": "code",
      "execution_count": null,
      "metadata": {
        "id": "pmbPdPYmPs-5",
        "colab": {
          "base_uri": "https://localhost:8080/"
        },
        "outputId": "4b6e28ef-299e-4c3d-dadd-e7c6ab2d7c9c"
      },
      "outputs": [
        {
          "output_type": "stream",
          "name": "stdout",
          "text": [
            "Name      object\n",
            "Age        int64\n",
            "Career    object\n",
            "dtype: object\n"
          ]
        }
      ],
      "source": [
        "print(df.dtypes)"
      ]
    },
    {
      "cell_type": "markdown",
      "metadata": {
        "id": "67Yv1vrcPs-5"
      },
      "source": [
        "7. Using bracket notation, reference column `name`"
      ]
    },
    {
      "cell_type": "code",
      "execution_count": null,
      "metadata": {
        "id": "KvYDyocgPs-6",
        "colab": {
          "base_uri": "https://localhost:8080/"
        },
        "outputId": "e6df08e5-1c25-463a-a9d3-63b03288da4a"
      },
      "outputs": [
        {
          "output_type": "stream",
          "name": "stdout",
          "text": [
            "participant_id\n",
            "0    Christine\n",
            "1         Maya\n",
            "2         Jaco\n",
            "3       Olivia\n",
            "Name: Name, dtype: object\n"
          ]
        }
      ],
      "source": [
        "name_b = df['Name']\n",
        "print(name_b)"
      ]
    },
    {
      "cell_type": "markdown",
      "metadata": {
        "id": "m3cxo1_DPs-6"
      },
      "source": [
        "8. Using dot notation, reference column `name`"
      ]
    },
    {
      "cell_type": "code",
      "execution_count": null,
      "metadata": {
        "id": "1GWDNZpDPs-6",
        "colab": {
          "base_uri": "https://localhost:8080/"
        },
        "outputId": "cf715513-d7b9-4d7a-d64f-53a8f90be5ef"
      },
      "outputs": [
        {
          "output_type": "stream",
          "name": "stdout",
          "text": [
            "participant_id\n",
            "0    Christine\n",
            "1         Maya\n",
            "2         Jaco\n",
            "3       Olivia\n",
            "Name: Name, dtype: object\n"
          ]
        }
      ],
      "source": [
        "name_d = df.Name\n",
        "print(name_d)"
      ]
    },
    {
      "cell_type": "markdown",
      "metadata": {
        "id": "QXcydAo-Ps-6"
      },
      "source": [
        "8. Reference column `name` and have it returned in a dataframe."
      ]
    },
    {
      "cell_type": "code",
      "execution_count": null,
      "metadata": {
        "id": "Es6jw5eKPs-6",
        "colab": {
          "base_uri": "https://localhost:8080/"
        },
        "outputId": "dfa7031e-d3da-4ae2-f078-ab84abd5fd15"
      },
      "outputs": [
        {
          "output_type": "stream",
          "name": "stdout",
          "text": [
            "                     Name\n",
            "participant_id           \n",
            "0               Christine\n",
            "1                    Maya\n",
            "2                    Jaco\n",
            "3                  Olivia\n"
          ]
        }
      ],
      "source": [
        "name_df = df[['Name']]\n",
        "print(name_df)"
      ]
    },
    {
      "cell_type": "markdown",
      "metadata": {
        "id": "FGvwXkmsPs-6"
      },
      "source": [
        "9. Show the 3rd element in column `career`."
      ]
    },
    {
      "cell_type": "code",
      "execution_count": null,
      "metadata": {
        "id": "9DFRMXJ-Ps-6",
        "colab": {
          "base_uri": "https://localhost:8080/"
        },
        "outputId": "e358b0c6-0c13-4c83-d049-c9d87c2c1d08"
      },
      "outputs": [
        {
          "output_type": "stream",
          "name": "stdout",
          "text": [
            "Data Analyst\n"
          ]
        }
      ],
      "source": [
        "third_element_career = df['Career'].iloc[2]\n",
        "print(third_element_career)"
      ]
    },
    {
      "cell_type": "markdown",
      "source": [
        "10.  Load the `iris` dataset that we used in class.  Use `iris` as the name of your data frame."
      ],
      "metadata": {
        "id": "rRH599bKtjbE"
      }
    },
    {
      "cell_type": "code",
      "source": [
        "from sklearn.datasets import load_iris\n",
        "import pandas as pd\n",
        "iris_data = load_iris()\n",
        "iris = pd.DataFrame(data=iris_data.data, columns=iris_data.feature_names)\n",
        "iris['species'] = iris_data.target\n",
        "print(iris)"
      ],
      "metadata": {
        "id": "zzf2X8hptu02",
        "colab": {
          "base_uri": "https://localhost:8080/"
        },
        "outputId": "9c0de829-6e3a-452b-e78b-4e1f20515491"
      },
      "execution_count": null,
      "outputs": [
        {
          "output_type": "stream",
          "name": "stdout",
          "text": [
            "     sepal length (cm)  sepal width (cm)  petal length (cm)  petal width (cm)  \\\n",
            "0                  5.1               3.5                1.4               0.2   \n",
            "1                  4.9               3.0                1.4               0.2   \n",
            "2                  4.7               3.2                1.3               0.2   \n",
            "3                  4.6               3.1                1.5               0.2   \n",
            "4                  5.0               3.6                1.4               0.2   \n",
            "..                 ...               ...                ...               ...   \n",
            "145                6.7               3.0                5.2               2.3   \n",
            "146                6.3               2.5                5.0               1.9   \n",
            "147                6.5               3.0                5.2               2.0   \n",
            "148                6.2               3.4                5.4               2.3   \n",
            "149                5.9               3.0                5.1               1.8   \n",
            "\n",
            "     species  \n",
            "0          0  \n",
            "1          0  \n",
            "2          0  \n",
            "3          0  \n",
            "4          0  \n",
            "..       ...  \n",
            "145        2  \n",
            "146        2  \n",
            "147        2  \n",
            "148        2  \n",
            "149        2  \n",
            "\n",
            "[150 rows x 5 columns]\n"
          ]
        }
      ]
    },
    {
      "cell_type": "markdown",
      "source": [
        "11.  What is the correlation between the variables `sepal_length` and `sepal_width` for all the irises?"
      ],
      "metadata": {
        "id": "AKz6-jVWtvSB"
      }
    },
    {
      "cell_type": "code",
      "source": [
        "correlation = iris['sepal length (cm)'].corr(iris['sepal width (cm)'])\n",
        "print('The correlation betwen sepal_length and sepal_width is', correlation,'.')"
      ],
      "metadata": {
        "id": "hee42cCiuUaQ",
        "colab": {
          "base_uri": "https://localhost:8080/"
        },
        "outputId": "84dfe8d0-e3ad-4c94-cedc-7ef11c684b0b"
      },
      "execution_count": null,
      "outputs": [
        {
          "output_type": "stream",
          "name": "stdout",
          "text": [
            "The correlation betwen sepal_length and sepal_width is -0.11756978413300208 .\n"
          ]
        }
      ]
    },
    {
      "cell_type": "markdown",
      "source": [
        "12.  Which of the three species has the highest correlation between `sepal_length` and `sepal_width`?  Show any calculations you use to support your answer."
      ],
      "metadata": {
        "id": "0FftiYs-uU0S"
      }
    },
    {
      "cell_type": "code",
      "source": [
        "correlation_setosa = iris[iris['species'] == 0]['sepal length (cm)'].corr(iris[iris['species'] == 0]['sepal width (cm)'])\n",
        "correlation_versicolor = iris[iris['species'] == 1]['sepal length (cm)'].corr(iris[iris['species'] == 1]['sepal width (cm)'])\n",
        "correlation_virginica = iris[iris['species'] == 2]['sepal length (cm)'].corr(iris[iris['species'] == 2]['sepal width (cm)'])\n",
        "\n",
        "max_correlation = max(correlation_setosa, correlation_versicolor, correlation_virginica)\n",
        "if max_correlation == correlation_setosa:\n",
        "  highest_correlation = 'Setosa'\n",
        "elif max_correlation == correlation_versicolor:\n",
        "  highest_correlation = 'Versicolor'\n",
        "else:\n",
        "  highest_correlation = 'Virginica'\n",
        "print('The species with the highest correlation between sepal_length and sepal_width is', highest_correlation, '.')\n"
      ],
      "metadata": {
        "id": "TFGICsBQulQ-",
        "colab": {
          "base_uri": "https://localhost:8080/"
        },
        "outputId": "5d098d10-6cd6-4a6a-e163-5a3fc5e659cf"
      },
      "execution_count": null,
      "outputs": [
        {
          "output_type": "stream",
          "name": "stdout",
          "text": [
            "The species with the highest correlation between sepal_length and sepal_width is Setosa .\n"
          ]
        }
      ]
    },
    {
      "cell_type": "markdown",
      "source": [
        "13.  Among the four variables, the two that are most negatively correlated (overall) are `sepal_width` and `petal_length`.  (How do we know this?)  Determine the same thing but for each species separately:  for each species, which two variables have the most negative (or the least positive) correlation?  Again, include calculations to support your answer."
      ],
      "metadata": {
        "id": "ZEwy0920u1NY"
      }
    },
    {
      "cell_type": "code",
      "source": [
        "overall_correlations_matrix = iris.corr()\n",
        "overall_neg_correlations = overall_correlations_matrix.unstack().sort_values().head(5)\n",
        "print('Values for Most Negatively Correlated Variables Overall:')\n",
        "print(overall_neg_correlations)\n"
      ],
      "metadata": {
        "id": "bcqtPTtHvjLI",
        "colab": {
          "base_uri": "https://localhost:8080/"
        },
        "outputId": "2efcaeb8-b1ac-450c-e10e-7867b68e0600"
      },
      "execution_count": null,
      "outputs": [
        {
          "output_type": "stream",
          "name": "stdout",
          "text": [
            "Values for Most Negatively Correlated Variables Overall:\n",
            "sepal width (cm)   petal length (cm)   -0.428440\n",
            "petal length (cm)  sepal width (cm)    -0.428440\n",
            "species            sepal width (cm)    -0.426658\n",
            "sepal width (cm)   species             -0.426658\n",
            "petal width (cm)   sepal width (cm)    -0.366126\n",
            "dtype: float64\n"
          ]
        }
      ]
    },
    {
      "cell_type": "markdown",
      "source": [
        "After assessing the negative correlations for the iris variables through calculations, we can see that the overall most negative correlation is tied between *sepal width and petal length* and *petal length and sepal width*."
      ],
      "metadata": {
        "id": "1DQMFA_RObI4"
      }
    },
    {
      "cell_type": "code",
      "source": [
        "def species_neg_correlations(species):\n",
        "  species_df = iris[iris['species'] == species]\n",
        "  species_corr_matrix = species_df.corr()\n",
        "  species_neg_correlations = species_corr_matrix.unstack().sort_values().head(5)\n",
        "  return species_neg_correlations\n",
        "\n",
        "neg_corr_setosa = species_neg_correlations(0)\n",
        "print('\\nMost Negatively Correlated Variables for Setosa:')\n",
        "print(neg_corr_setosa)\n",
        "\n",
        "neg_corr_versicolor = species_neg_correlations(1)\n",
        "print('\\nMost Negatively Correlated Variables for Versicolor:')\n",
        "print(neg_corr_versicolor)\n",
        "\n",
        "neg_corr_virginica = species_neg_correlations(2)\n",
        "print('\\nMost Negatively Correlated Variables for Virginica:')\n",
        "print(neg_corr_virginica)"
      ],
      "metadata": {
        "colab": {
          "base_uri": "https://localhost:8080/"
        },
        "id": "DokmyVJhLwpM",
        "outputId": "e0ee5e1b-5e19-43ad-c10b-23a64e7dd721"
      },
      "execution_count": null,
      "outputs": [
        {
          "output_type": "stream",
          "name": "stdout",
          "text": [
            "\n",
            "Most Negatively Correlated Variables for Setosa:\n",
            "sepal width (cm)   petal length (cm)    0.177700\n",
            "petal length (cm)  sepal width (cm)     0.177700\n",
            "sepal width (cm)   petal width (cm)     0.232752\n",
            "petal width (cm)   sepal width (cm)     0.232752\n",
            "sepal length (cm)  petal length (cm)    0.267176\n",
            "dtype: float64\n",
            "\n",
            "Most Negatively Correlated Variables for Versicolor:\n",
            "sepal length (cm)  sepal width (cm)     0.525911\n",
            "sepal width (cm)   sepal length (cm)    0.525911\n",
            "sepal length (cm)  petal width (cm)     0.546461\n",
            "petal width (cm)   sepal length (cm)    0.546461\n",
            "sepal width (cm)   petal length (cm)    0.560522\n",
            "dtype: float64\n",
            "\n",
            "Most Negatively Correlated Variables for Virginica:\n",
            "sepal length (cm)  petal width (cm)     0.281108\n",
            "petal width (cm)   sepal length (cm)    0.281108\n",
            "petal length (cm)  petal width (cm)     0.322108\n",
            "petal width (cm)   petal length (cm)    0.322108\n",
            "sepal width (cm)   petal length (cm)    0.401045\n",
            "dtype: float64\n"
          ]
        }
      ]
    },
    {
      "cell_type": "markdown",
      "source": [
        "For **Setosa**, the variables with the most negative correlation were tied between *sepal width and petal length*, and *sepal length and sepal width*.\n",
        "\n",
        "For **Versicolor**, it was tied between *sepal length and sepal width*, and *sepal width and sepal length*.\n",
        "\n",
        "For **Virginica**, it was tied betwen *sepal length and petal width*, and *petal width and sepal length*."
      ],
      "metadata": {
        "id": "JecNCf_UNTcl"
      }
    },
    {
      "cell_type": "markdown",
      "source": [
        "14.  Once again, the variables `sepal_width` and `petal_length` are negatively correlated.  But for each individual species, these two variables are positively correlated.  How is this possible?  Explain this phenomenon.  Use a data visualization if it helps.\n"
      ],
      "metadata": {
        "id": "cK_OhSaRvxhE"
      }
    },
    {
      "cell_type": "code",
      "source": [
        "import matplotlib.pyplot as plt\n",
        "import seaborn as sns\n",
        "\n",
        "plt.figure(figsize=(12,4))\n",
        "sns.scatterplot(data=iris[iris['species'] == 0], x='sepal width (cm)', y='petal length (cm)', label= 'Setosa')\n",
        "sns.scatterplot(data=iris[iris['species'] == 1], x='sepal width (cm)', y='petal length (cm)', label= 'Versicolor')\n",
        "sns.scatterplot(data=iris[iris['species'] == 2], x='sepal width (cm)', y='petal length (cm)', label= 'Virginica')\n",
        "plt.tight_layout()\n",
        "plt.show()"
      ],
      "metadata": {
        "id": "H4_QQDWHwJ3t",
        "colab": {
          "base_uri": "https://localhost:8080/",
          "height": 346
        },
        "outputId": "bd900806-7c3a-454a-bebf-f3b182f735a6"
      },
      "execution_count": null,
      "outputs": [
        {
          "output_type": "display_data",
          "data": {
            "text/plain": [
              "<Figure size 1200x400 with 1 Axes>"
            ],
            "image/png": "[encoded data removed]"
          },
          "metadata": {}
        }
      ]
    },
    {
      "cell_type": "markdown",
      "source": [
        "As we can see with the aggragated values for each species, the overall negative correlation is due to the decrease in petal length-sepal length relationship among Setosa values that results in a negative trajectory."
      ],
      "metadata": {
        "id": "e9nEgsi4QSW5"
      }
    }
  ],
  "metadata": {
    "kernelspec": {
      "display_name": "Python 3.8.9 64-bit",
      "language": "python",
      "name": "python3"
    },
    "language_info": {
      "codemirror_mode": {
        "name": "ipython",
        "version": 3
      },
      "file_extension": ".py",
      "mimetype": "text/x-python",
      "name": "python",
      "nbconvert_exporter": "python",
      "pygments_lexer": "ipython3",
      "version": "3.8.9"
    },
    "orig_nbformat": 4,
    "vscode": {
      "interpreter": {
        "hash": "31f2aee4e71d21fbe5cf8b01ff0e069b9275f58929596ceb00d14d90e3e16cd6"
      }
    },
    "colab": {
      "provenance": [],
      "include_colab_link": true
    }
  },
  "nbformat": 4,
  "nbformat_minor": 0
}