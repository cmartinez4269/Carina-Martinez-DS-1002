{
  "nbformat": 4,
  "nbformat_minor": 0,
  "metadata": {
    "colab": {
      "provenance": [],
      "include_colab_link": true
    },
    "kernelspec": {
      "name": "python3",
      "display_name": "Python 3"
    },
    "language_info": {
      "name": "python"
    }
  },
  "cells": [
    {
      "cell_type": "markdown",
      "metadata": {
        "id": "view-in-github",
        "colab_type": "text"
      },
      "source": [
        "<a href=\"https://colab.research.google.com/github/cmartinez4269/Carina-Martinez-DS-1002/blob/main/Carina_Martinez_Copy_of_07_More_Pandas.ipynb\" target=\"_parent\"><img src=\"https://colab.research.google.com/assets/colab-badge.svg\" alt=\"Open In Colab\"/></a>"
      ]
    },
    {
      "cell_type": "markdown",
      "source": [
        "# More pandas exercises\n",
        "\n",
        "Create a Colab notebook. Complete the tasks as specified in the directions. Run each cell to return the desired output. Save your notebook back to your GitHub repository and submit the GitHub URL for your notebook for review."
      ],
      "metadata": {
        "id": "phbaQTT5gy8A"
      }
    },
    {
      "cell_type": "markdown",
      "source": [
        "1.  Load the following dataset into Colab and perform the requested operations in code.\n",
        "\n",
        " Source: https://ds1002-resources.s3.amazonaws.com/data/ride_sharing.csv"
      ],
      "metadata": {
        "id": "WlPHuSLARJBJ"
      }
    },
    {
      "cell_type": "code",
      "source": [
        "# Load pandas and the data\n",
        "import pandas as pd\n",
        "df = pd.read_csv('./ride_sharing.csv')\n",
        "print(df)"
      ],
      "metadata": {
        "id": "kdFLCHtOg53p"
      },
      "execution_count": null,
      "outputs": []
    },
    {
      "cell_type": "code",
      "source": [
        "# show how many rows and columns are in this dataset\n",
        "num_rows, num_columns = df.shape\n",
        "print('There are', num_rows, 'rows.')\n",
        "print('There are', num_columns, 'columns.')"
      ],
      "metadata": {
        "id": "Lfh8suAyhKQW",
        "outputId": "ea4a9fc3-0ae2-4f50-fb98-a78d35e317c5",
        "colab": {
          "base_uri": "https://localhost:8080/"
        }
      },
      "execution_count": null,
      "outputs": [
        {
          "output_type": "stream",
          "name": "stdout",
          "text": [
            "There are 25760 rows.\n",
            "There are 10 columns.\n"
          ]
        }
      ]
    },
    {
      "cell_type": "code",
      "source": [
        "# The first column, \"duration\" is seen as a string.\n",
        "# Using two snippets of code, clean this column up so that\n",
        "# is now an integer (int64)\n",
        "df['duration'] = df['duration'].str.strip(' minutes')\n",
        "df['duration'] = df['duration'].astype('int64')"
      ],
      "metadata": {
        "id": "KK5-y9nzhMVq"
      },
      "execution_count": null,
      "outputs": []
    },
    {
      "cell_type": "code",
      "source": [
        "# Now display the datatypes in the updated dataframe\n",
        "df.dtypes"
      ],
      "metadata": {
        "id": "QyGJUshvhz1J",
        "outputId": "511d08cc-108d-4d24-dca8-6296f4c316e1",
        "colab": {
          "base_uri": "https://localhost:8080/"
        }
      },
      "execution_count": null,
      "outputs": [
        {
          "output_type": "execute_result",
          "data": {
            "text/plain": [
              "duration            int64\n",
              "station_A_id        int64\n",
              "station_A_name     object\n",
              "station_B_id        int64\n",
              "station_B_name     object\n",
              "bike_id             int64\n",
              "user_type           int64\n",
              "user_birth_year     int64\n",
              "user_gender        object\n",
              "tire_size           int64\n",
              "dtype: object"
            ]
          },
          "metadata": {},
          "execution_count": 5
        }
      ]
    },
    {
      "cell_type": "code",
      "source": [
        "# Show the min and max values of ride durations (the shortest and longest rides)\n",
        "# Hint: If 'df' is the name of your dataframe, simply specify the column name\n",
        "# and then append the .min() or .max() methods.\n",
        "print('The shortest ride is', df.duration.min(), 'minute.')\n",
        "print('The longest ride is', df.duration.max(), 'minutes.')\n"
      ],
      "metadata": {
        "id": "UCA1OswWh5b5",
        "outputId": "ff0b5ee8-b726-456d-aed1-883d9d840c1a",
        "colab": {
          "base_uri": "https://localhost:8080/"
        }
      },
      "execution_count": null,
      "outputs": [
        {
          "output_type": "stream",
          "name": "stdout",
          "text": [
            "The shortest ride is 1 minute.\n",
            "The longest ride is 1372 minutes.\n"
          ]
        }
      ]
    },
    {
      "cell_type": "code",
      "source": [
        "# Create a new dataframe object and populate it with rides that are 60 minutes or less.\n",
        "# Hint: Use the .query() method for the dataframe that we used in class.\n",
        "rides = df.query('duration <= 60')"
      ],
      "metadata": {
        "id": "K7mStv5kibbA"
      },
      "execution_count": null,
      "outputs": []
    },
    {
      "cell_type": "code",
      "source": [
        "# Now show both the min and max values of the duration column for your new dataset.\n",
        "print('The shortest ride is', rides.duration.min(), 'minute.')\n",
        "print('The longest ride is', rides.duration.max(), 'minutes.')\n"
      ],
      "metadata": {
        "id": "v63UdQjNi-w5",
        "outputId": "ec77151b-30a2-4a8b-f45e-6816efbfd1ce",
        "colab": {
          "base_uri": "https://localhost:8080/"
        }
      },
      "execution_count": null,
      "outputs": [
        {
          "output_type": "stream",
          "name": "stdout",
          "text": [
            "The shortest ride is 1 minute.\n",
            "The longest ride is 60 minutes.\n"
          ]
        }
      ]
    },
    {
      "cell_type": "code",
      "source": [
        "# Using the new dataframe, update it so that is ONLY has records where\n",
        "# the tire_size is 26.\n",
        "rides = rides[rides['tire_size']==26]\n",
        "print('The smallest tire size is', rides.tire_size.min(),'.')\n",
        "print('The largest tire size is', rides.tire_size.max(),'.')"
      ],
      "metadata": {
        "id": "xTzb_j9rjGk2",
        "outputId": "b3a484bc-cb43-4a33-daa4-1123844c5fbb",
        "colab": {
          "base_uri": "https://localhost:8080/"
        }
      },
      "execution_count": null,
      "outputs": [
        {
          "output_type": "stream",
          "name": "stdout",
          "text": [
            "The smallest tire size is 26 .\n",
            "The largest tire size is 26 .\n"
          ]
        }
      ]
    },
    {
      "cell_type": "code",
      "source": [
        "# Finally, produce a count of all records with FEMALE riders\n",
        "# using the 26-inch wheeled rental bikes for their rentals of\n",
        "# one hour or less.\n",
        "female_rides = rides.query('user_gender == \"Female\"')\n",
        "count_female_rides = female_rides.shape[0]\n",
        "print('There are', count_female_rides, 'females using the 26-inch wheeled rental bikes for their rentals of one hour or less.')"
      ],
      "metadata": {
        "id": "0cwbfj66jrG9",
        "outputId": "60302df5-e934-47c3-c270-94ed7a016cc1",
        "colab": {
          "base_uri": "https://localhost:8080/"
        }
      },
      "execution_count": null,
      "outputs": [
        {
          "output_type": "stream",
          "name": "stdout",
          "text": [
            "There are 2962 females using the 26-inch wheeled rental bikes for their rentals of one hour or less.\n"
          ]
        }
      ]
    },
    {
      "cell_type": "markdown",
      "source": [
        "2. Find the file `more-messy-data.csv` on GitHub and upload it into Google Colab.\n",
        "\n",
        "Create a new Pandas DataFrame from that data and perform the following steps."
      ],
      "metadata": {
        "id": "YIlxzTRQSrl3"
      }
    },
    {
      "cell_type": "code",
      "source": [
        "df = pd.read_csv('./more-messy-data.csv')\n",
        "print(df)"
      ],
      "metadata": {
        "id": "VuiTKtRZllkj",
        "colab": {
          "base_uri": "https://localhost:8080/"
        },
        "outputId": "6655bd12-4085-4a4b-cf67-ca8f1c6e7942"
      },
      "execution_count": null,
      "outputs": [
        {
          "output_type": "stream",
          "name": "stdout",
          "text": [
            "       id  sepal_length  sepal_width  petal_length petal_width     species\n",
            "0       1           3.5          2.9           1.4         0.5   virginica\n",
            "1       2           3.6          3.2           3.0         0.5      setosa\n",
            "2       3           3.8          NaN           2.2         1.5      setosa\n",
            "3       4           5.8          2.7           2.6         1.2   virginica\n",
            "4       5           4.9          3.6           3.0         1.2   virginica\n",
            "...   ...           ...          ...           ...         ...         ...\n",
            "1311  412           NaN          3.6           2.9         0.5  Versicolor\n",
            "1312  413           5.8          2.7           2.0         0.1  Versicolor\n",
            "1313  414           3.3          3.7           1.3         2.8  Versicolor\n",
            "1314  415           3.1          NaN           1.1         NaN  Versicolor\n",
            "1315  416           4.3          2.5           1.3           1  Versicolor\n",
            "\n",
            "[1316 rows x 6 columns]\n"
          ]
        }
      ]
    },
    {
      "cell_type": "code",
      "source": [
        "# Write a snippet of code that will display the number of duplicate rows exist in the DF.\n",
        "print('There are', df.duplicated().sum(), 'duplicated rows.')"
      ],
      "metadata": {
        "id": "6O1caoy6S82Q",
        "colab": {
          "base_uri": "https://localhost:8080/"
        },
        "outputId": "74de76f1-5140-467c-bd88-2c540b4e1f5a"
      },
      "execution_count": null,
      "outputs": [
        {
          "output_type": "stream",
          "name": "stdout",
          "text": [
            "There are 287 duplicated rows.\n"
          ]
        }
      ]
    },
    {
      "cell_type": "code",
      "source": [
        "# Next, remove all duplicate rows using Python.\n",
        "df = df.drop_duplicates()\n",
        "print('There are now', df.duplicated().sum(), 'duplicated rows.')"
      ],
      "metadata": {
        "id": "-pDZ2xA-S8vd",
        "colab": {
          "base_uri": "https://localhost:8080/"
        },
        "outputId": "655fc5bd-91b8-4283-a2ff-5bd97fba199c"
      },
      "execution_count": null,
      "outputs": [
        {
          "output_type": "stream",
          "name": "stdout",
          "text": [
            "There are now 0 duplicated rows.\n"
          ]
        }
      ]
    },
    {
      "cell_type": "code",
      "source": [
        "# For the FOUR columns involving sepal and petal length and width, update all NaN values\n",
        "# with the column mean.\n",
        "columns = ['sepal_length', 'sepal_width', 'petal_length', 'petal_width']\n",
        "for column in columns:\n",
        "  df[column] = pd.to_numeric(df[column], errors = 'coerce')\n",
        "  column_means = df[column].mean(skipna=True)\n",
        "  df[column].fillna(column_means, inplace=True)\n",
        "\n",
        "print(df)\n",
        "print('The mean for sepal_length was', df.sepal_length.mean(),'.')\n",
        "print('The mean for sepal_width was', df.sepal_width.mean(),'.')\n",
        "print('The mean for petal_length was', df.petal_length.mean(),'.')\n",
        "print('The mean for petal_width was', df.petal_width.mean(),'.')"
      ],
      "metadata": {
        "id": "Quf-P7L4S8oh",
        "colab": {
          "base_uri": "https://localhost:8080/"
        },
        "outputId": "582c78a2-a20b-44b6-bf7a-088df6e79074"
      },
      "execution_count": null,
      "outputs": [
        {
          "output_type": "stream",
          "name": "stdout",
          "text": [
            "       id  sepal_length  sepal_width  petal_length  petal_width     species\n",
            "0       1      3.500000      2.90000           1.4       0.5000   virginica\n",
            "1       2      3.600000      3.20000           3.0       0.5000      setosa\n",
            "2       3      3.800000      2.98876           2.2       1.5000      setosa\n",
            "3       4      5.800000      2.70000           2.6       1.2000   virginica\n",
            "4       5      4.900000      3.60000           3.0       1.2000   virginica\n",
            "...   ...           ...          ...           ...          ...         ...\n",
            "1311  412      4.522004      3.60000           2.9       0.5000  Versicolor\n",
            "1312  413      5.800000      2.70000           2.0       0.1000  Versicolor\n",
            "1313  414      3.300000      3.70000           1.3       2.8000  Versicolor\n",
            "1314  415      3.100000      2.98876           1.1       1.5574  Versicolor\n",
            "1315  416      4.300000      2.50000           1.3       1.0000  Versicolor\n",
            "\n",
            "[1029 rows x 6 columns]\n",
            "The mean for sepal_length was 4.522004132231404 .\n",
            "The mean for sepal_width was 2.9887601390498264 .\n",
            "The mean for petal_length was 1.9986036519871107 .\n",
            "The mean for petal_width was 1.557399577167019 .\n"
          ]
        }
      ]
    },
    {
      "cell_type": "code",
      "source": [
        "# Find any values in the dataframe that are still missing, and delete them.\n",
        "df = df.dropna()"
      ],
      "metadata": {
        "id": "en_ReYsAS8f-"
      },
      "execution_count": null,
      "outputs": []
    },
    {
      "cell_type": "code",
      "source": [
        "# How many different species are there?\n",
        "num_species = len(df['species'].unique())\n",
        "print('There are', num_species, 'different kinds of species.')\n",
        "print(df['species'].unique())"
      ],
      "metadata": {
        "id": "uqV9IHwDS75a",
        "colab": {
          "base_uri": "https://localhost:8080/"
        },
        "outputId": "1c647d11-1b77-49e4-e4bd-7de372069b1d"
      },
      "execution_count": null,
      "outputs": [
        {
          "output_type": "stream",
          "name": "stdout",
          "text": [
            "There are 10 different kinds of species.\n",
            "['virginica' 'setosa' 'Versicolor' 'setoso' 'Viginica' 'Virginia'\n",
            " 'Virginica' 'Setosa' 'Setosan' 'versicolor']\n"
          ]
        }
      ]
    },
    {
      "cell_type": "code",
      "source": [
        "# Clean up the 'species' variable so that there are exactly three different values.\n",
        "three_species = {'setosa': 'Setosa',\n",
        "                 'setoso': 'Setosa',\n",
        "                 'Setosan': 'Setosa',\n",
        "                 'versicolor': 'Versicolor',\n",
        "                 'virginica': 'Virginica',\n",
        "                 'Viginica': 'Virginica',\n",
        "                 'Virginia': 'Virginica'}\n",
        "df['species'] = df['species'].map(three_species)"
      ],
      "metadata": {
        "id": "G2j8HDgYT52P"
      },
      "execution_count": null,
      "outputs": []
    },
    {
      "cell_type": "markdown",
      "source": [
        "3. Bonus:  Regular expressions\n",
        "\n",
        "Ordinary (non-vanity) Virginia license plates have the form `ABC1234`, meaning they have three upper case letters followed by four digits.  Write a regular expression that matches any string of this form (and doesn't match anything else).  Test your expression with code to make sure it works.\n",
        "\n",
        "To figure out out how to do this, start with the sample code below.  The `re` package has various functions related to regular expressions, including for example `match()`, which takes two arguments, first the regular expression and second the test string, and tests to see whether the *beginning* of the `test` string matches the pattern `exp`.\n",
        "\n",
        "Note that `re.match(exp,test)` does not return a boolean variable, as you might expect (in other words, a match doesn't return `True` and a non-match `False`).  The type of object you get is called `re.Match`, which is a data type special to the `re` package.  (The reason for this is that the object contains more information than just whether there is a match or not.) However, you can turn it into a boolean using `bool()` if you want.\n",
        "\n",
        "Include the following in the notebook you submit:\n",
        "\n",
        " 1. A regular expression in a text chunk\n",
        " 2. One or more code chunks in which you test several strings to verify that your regex is correct.\n",
        " 3. Make sure you display the results of testing various strings.\n",
        "\n",
        " See this [documentation page](https://docs.python.org/3/howto/regex.html#regex-howto) for further help."
      ],
      "metadata": {
        "id": "CsMBqFDmX7Ax"
      }
    },
    {
      "cell_type": "code",
      "source": [
        "# Sample code for testing whether a string matches a regex\n",
        "\n",
        "# First import this package for working with regular expressions\n",
        "import re\n",
        "\n",
        "# Here is an example.\n",
        "# Play around with different expressions and test strings to see what happens.\n",
        "exp = 'ab+'\n",
        "test = 'aabbbc'\n",
        "\n",
        "if re.match(exp,test):\n",
        "  print(\"match!\")\n",
        "else:\n",
        "  print(\"no match\")\n",
        "\n",
        "# uncomment this line if you want\n",
        "# print(type(re.match(exp,test)))\n",
        "\n",
        "# uncomment this line if you want\n",
        "# print(bool(re.match(exp,test)))"
      ],
      "metadata": {
        "id": "LKbpBAxJZnXp"
      },
      "execution_count": null,
      "outputs": []
    }
  ]
}